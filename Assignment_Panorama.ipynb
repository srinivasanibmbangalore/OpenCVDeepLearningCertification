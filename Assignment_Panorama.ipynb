{
 "cells": [
  {
   "cell_type": "markdown",
   "metadata": {},
   "source": [
    "# <font style = \"color:rgb(50,120,229)\">Assignment Instructions</font>\n",
    "\n",
    "This assignment carries **30 marks** and will be **manually graded**. You will have a total of **5 submissions** allowed.\n",
    "\n",
    "In this assignment, you will be **creating a panorama using the stitcher class**. Unlike previous assignments, we will not be providing any function syntax to help you with. \n",
    "\n",
    "**This assignment has the following objectives** : \n",
    "\n",
    "1. Learn how to create a panorama using 8 images using the stitcher class in OpenCV.\n",
    "1. Learn how to browse through the documentation and find relevant information to accomplish the task at hand. \n",
    "( NOTE that this is a very useful skill in general )\n",
    "1. Read about how OpenCV implements Image Stitching. [**Please read about it here**](https://docs.opencv.org/4.1.0/d1/d46/group__stitching.html)\n",
    "\n",
    "Please use [**this link for the relevant documentation page ( the stitcher class )**](https://docs.opencv.org/4.1.0/d2/d8d/classcv_1_1Stitcher.html)."
   ]
  },
  {
   "cell_type": "markdown",
   "metadata": {},
   "source": [
    "# <font style = \"color:rgb(50,120,229)\">Creating Panoramas with multiple images</font>\n",
    "Go through the documentation given in the links above and complete the code. The code is very simple and should not take much time. Thus, you should not search online and **ONLY** use the links provided to complete the assignment."
   ]
  },
  {
   "cell_type": "code",
   "execution_count": 1,
   "metadata": {
    "collapsed": true
   },
   "outputs": [],
   "source": [
    "import cv2\n",
    "import numpy as np\n",
    "import matplotlib.pyplot as plt\n",
    "from dataPath import DATA_PATH\n",
    "%matplotlib inline"
   ]
  },
  {
   "cell_type": "code",
   "execution_count": 2,
   "metadata": {
    "collapsed": true
   },
   "outputs": [],
   "source": [
    "import matplotlib\n",
    "matplotlib.rcParams['figure.figsize'] = (10.0, 10.0)\n",
    "matplotlib.rcParams['image.cmap'] = 'gray'"
   ]
  },
  {
   "cell_type": "code",
   "execution_count": 3,
   "metadata": {
    "collapsed": true
   },
   "outputs": [],
   "source": [
    "import os"
   ]
  },
  {
   "cell_type": "code",
   "execution_count": 5,
   "metadata": {},
   "outputs": [
    {
     "data": {
      "text/plain": [
       "<Figure size 1440x1080 with 0 Axes>"
      ]
     },
     "metadata": {},
     "output_type": "display_data"
    }
   ],
   "source": [
    "images = []\n",
    "\n",
    "dirName = \"scene\"\n",
    "\n",
    "imagefiles = [DATA_PATH + \"images/{}/\".format(dirName) + f for f in os.listdir(DATA_PATH+\"images/\"+dirName) if f.endswith(\".jpg\")]\n",
    "imagefiles.sort()\n",
    "\n",
    "destination = \"{}_result.png\".format(dirName)\n",
    "plt.figure(figsize=[20,15])\n",
    "i=1\n",
    "for filename in imagefiles:\n",
    "    img = cv2.imread(filename)\n",
    "    images.append(img)\n",
    "\n",
    "###\n",
    "stitcher = cv2.Stitcher_create()\n",
    "(status, result) = stitcher.stitch(images)\n",
    "###\n"
   ]
  },
  {
   "cell_type": "code",
   "execution_count": 6,
   "metadata": {},
   "outputs": [
    {
     "data": {
      "text/plain": [
       "<matplotlib.image.AxesImage at 0x7f20fcc2efd0>"
      ]
     },
     "execution_count": 6,
     "metadata": {},
     "output_type": "execute_result"
    }
   ],
   "source": [
    "# plt.figure(figsize=[20,10])\n",
    "plt.imshow(result[:,:,::-1])"
   ]
  },
  {
   "cell_type": "markdown",
   "metadata": {},
   "source": [
    "## <font style=\"color:rgb(50,120,229)\">Expected Output</font>\n",
    "\n",
    "![](panorama.jpg)"
   ]
  }
 ],
 "metadata": {
  "kernelspec": {
   "display_name": "Python 3 [3.6]",
   "language": "python",
   "name": "python3"
  },
  "language_info": {
   "codemirror_mode": {
    "name": "ipython",
    "version": 3
   },
   "file_extension": ".py",
   "mimetype": "text/x-python",
   "name": "python",
   "nbconvert_exporter": "python",
   "pygments_lexer": "ipython3",
   "version": "3.6.4"
  }
 },
 "nbformat": 4,
 "nbformat_minor": 2
}
